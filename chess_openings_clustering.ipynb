{
 "cells": [
  {
   "cell_type": "markdown",
   "id": "dd84e0fb",
   "metadata": {},
   "source": [
    "\n",
    "# Chess Openings: Clustering by Mean Player Rating\n",
    "**Author:** (your name)  \n",
    "**Date:** 2025-08-07\n",
    "\n",
    "This notebook is written in a simple, book-style format.  \n",
    "Before each step, you will see a short explanation. After each result, there is a short interpretation.\n"
   ]
  },
  {
   "cell_type": "markdown",
   "id": "b4a70b1a",
   "metadata": {},
   "source": [
    "\n",
    "## 1. Overview and Goal\n",
    "**Goal:** Understand which chess openings are common for players at different skill levels.  \n",
    "We will group games by `opening_name`, compute the average player rating for each opening, and then cluster the openings.\n",
    "\n",
    "**Data:** Kaggle dataset `datasnaek/chess` (file: `games.csv`).\n",
    "\n",
    "**Main steps:**\n",
    "1) Load and prepare the data.  \n",
    "2) Build opening-level features.  \n",
    "3) Cluster openings by average rating.  \n",
    "4) Visualize results and interpret them.\n"
   ]
  },
  {
   "cell_type": "markdown",
   "id": "bc8e19eb",
   "metadata": {},
   "source": [
    "\n",
    "## 2. Setup\n",
    "Import the libraries we need. If something is missing locally, please install it first.\n"
   ]
  },
  {
   "cell_type": "code",
   "execution_count": null,
   "id": "33e67be2",
   "metadata": {},
   "outputs": [],
   "source": [
    "\n",
    "import kagglehub\n",
    "import pandas as pd\n",
    "import matplotlib.pyplot as plt\n",
    "from sklearn.cluster import KMeans\n",
    "from sklearn.metrics import silhouette_samples, silhouette_score\n",
    "\n",
    "# Display options (optional)\n",
    "pd.set_option('display.max_rows', 10)\n",
    "pd.set_option('display.max_colwidth', 120)\n"
   ]
  },
  {
   "cell_type": "markdown",
   "id": "8fa8e701",
   "metadata": {},
   "source": [
    "\n",
    "**Explanation:**  \n",
    "- `kagglehub` downloads datasets from Kaggle to your local cache.  \n",
    "- `pandas` works with tables (DataFrames).  \n",
    "- `matplotlib` makes plots.  \n",
    "- `KMeans` and `silhouette_*` are used for clustering and evaluating clusters.\n"
   ]
  },
  {
   "cell_type": "markdown",
   "id": "a7435e7d",
   "metadata": {},
   "source": [
    "\n",
    "## 3. Download the dataset\n",
    "Download the dataset and print the local path to the files.\n"
   ]
  },
  {
   "cell_type": "code",
   "execution_count": null,
   "id": "1807c1e7",
   "metadata": {},
   "outputs": [],
   "source": [
    "\n",
    "path = kagglehub.dataset_download(\"datasnaek/chess\")\n",
    "print(\"Path to dataset files:\", path)\n"
   ]
  },
  {
   "cell_type": "markdown",
   "id": "29b4e3a1",
   "metadata": {},
   "source": [
    "\n",
    "**What to expect:** a local folder path that includes the file `games.csv`.\n"
   ]
  },
  {
   "cell_type": "markdown",
   "id": "1074829c",
   "metadata": {},
   "source": [
    "\n",
    "## 4. Read `games.csv`\n",
    "Load the games table and look at the first rows.\n"
   ]
  },
  {
   "cell_type": "code",
   "execution_count": null,
   "id": "0fbd972e",
   "metadata": {},
   "outputs": [],
   "source": [
    "\n",
    "df = pd.read_csv(path + '/games.csv')\n",
    "df.head()\n"
   ]
  },
  {
   "cell_type": "markdown",
   "id": "476008d1",
   "metadata": {},
   "source": [
    "\n",
    "**Interpretation:** You should see columns like `white_rating`, `black_rating`, and `opening_name`.  \n",
    "Next, we can check the size and missing values.\n"
   ]
  },
  {
   "cell_type": "code",
   "execution_count": null,
   "id": "bf8c6ff8",
   "metadata": {},
   "outputs": [],
   "source": [
    "\n",
    "print(df.shape)\n",
    "df.isna().mean().sort_values(ascending=False).head(10)\n"
   ]
  },
  {
   "cell_type": "markdown",
   "id": "6b153a42",
   "metadata": {},
   "source": [
    "\n",
    "## 5. Game-level feature\n",
    "Add the average rating of the two players in each game. This is our basic signal of \"player strength\".\n"
   ]
  },
  {
   "cell_type": "code",
   "execution_count": null,
   "id": "8748709e",
   "metadata": {},
   "outputs": [],
   "source": [
    "\n",
    "df['mean_rating'] = (df['white_rating'] + df['black_rating']) / 2\n",
    "df[['white_rating', 'black_rating', 'mean_rating']].head()\n"
   ]
  },
  {
   "cell_type": "markdown",
   "id": "5ed7afc6",
   "metadata": {},
   "source": [
    "\n",
    "**Interpretation:** `mean_rating` is the average rating of the two players in a game.  \n",
    "Next, we will aggregate this by opening.\n"
   ]
  },
  {
   "cell_type": "markdown",
   "id": "7d6ef729",
   "metadata": {},
   "source": [
    "\n",
    "## 6. Aggregate by opening\n",
    "For each `opening_name`, compute the mean of `mean_rating` and the number of games (`games_count`).\n"
   ]
  },
  {
   "cell_type": "code",
   "execution_count": null,
   "id": "7ba1ecdc",
   "metadata": {},
   "outputs": [],
   "source": [
    "\n",
    "debuts = df.groupby('opening_name').agg({\n",
    "    'mean_rating': 'mean',\n",
    "    'id': 'count'\n",
    "}).rename(columns={'id': 'games_count'}).reset_index()\n",
    "\n",
    "debuts.sort_values('games_count', ascending=False).head(10)\n"
   ]
  },
  {
   "cell_type": "markdown",
   "id": "d4234b96",
   "metadata": {},
   "source": [
    "\n",
    "**Interpretation:** Each row is now one opening.  \n",
    "- `mean_rating` shows the typical rating level for that opening.  \n",
    "- `games_count` shows how frequent the opening is in our data.\n"
   ]
  },
  {
   "cell_type": "markdown",
   "id": "26193595",
   "metadata": {},
   "source": [
    "\n",
    "## 7. Filter rare openings\n",
    "Keep only openings that appear more than 20 times. This removes very rare cases.\n"
   ]
  },
  {
   "cell_type": "code",
   "execution_count": null,
   "id": "005a2316",
   "metadata": {},
   "outputs": [],
   "source": [
    "\n",
    "debuts = debuts[debuts['games_count'] > 20].copy()\n",
    "debuts.describe()[['mean_rating','games_count']]\n"
   ]
  },
  {
   "cell_type": "markdown",
   "id": "2828b1eb",
   "metadata": {},
   "source": [
    "\n",
    "**Interpretation:** We focus on openings with enough games, so our results are more stable.\n"
   ]
  },
  {
   "cell_type": "markdown",
   "id": "380ef229",
   "metadata": {},
   "source": [
    "\n",
    "## 8. Clustering\n",
    "Run **KMeans** with 4 clusters on one feature: `mean_rating`.\n"
   ]
  },
  {
   "cell_type": "code",
   "execution_count": null,
   "id": "37373f0b",
   "metadata": {},
   "outputs": [],
   "source": [
    "\n",
    "X = debuts[['mean_rating']].values\n",
    "n_clusters = 4\n",
    "kmeans = KMeans(n_clusters=n_clusters, random_state=42)\n",
    "debuts['cluster'] = kmeans.fit_predict(X)\n",
    "\n",
    "debuts[['opening_name','mean_rating','games_count','cluster']].head(10)\n"
   ]
  },
  {
   "cell_type": "markdown",
   "id": "c2d2975b",
   "metadata": {},
   "source": [
    "\n",
    "**Interpretation:** Each opening now has a cluster label (0–3). This groups openings by rating level.\n"
   ]
  },
  {
   "cell_type": "markdown",
   "id": "9cc6bcfb",
   "metadata": {},
   "source": [
    "\n",
    "## 9. Plot: rating vs popularity\n",
    "Make a scatter plot:  \n",
    "- X-axis: `mean_rating` (used for clustering)  \n",
    "- Y-axis: `games_count` (popularity, for context)  \n",
    "Color = cluster.\n"
   ]
  },
  {
   "cell_type": "code",
   "execution_count": null,
   "id": "7cd3f512",
   "metadata": {},
   "outputs": [],
   "source": [
    "\n",
    "plt.figure(figsize=(10, 6))\n",
    "for c in range(n_clusters):\n",
    "    d = debuts[debuts['cluster'] == c]\n",
    "    plt.scatter(d['mean_rating'], d['games_count'], label=f'Cluster {c}', alpha=0.7)\n",
    "plt.xlabel('Mean Player Rating')\n",
    "plt.ylabel('Number of Games')\n",
    "plt.title('Openings clustered by mean rating')\n",
    "plt.legend()\n",
    "plt.grid()\n",
    "plt.show()\n"
   ]
  },
  {
   "cell_type": "markdown",
   "id": "75693147",
   "metadata": {},
   "source": [
    "\n",
    "**Interpretation:**  \n",
    "- Clusters separate openings by typical player rating.  \n",
    "- Popularity can be high or low inside each cluster.\n"
   ]
  },
  {
   "cell_type": "markdown",
   "id": "576a6755",
   "metadata": {},
   "source": [
    "\n",
    "## 10. Examples from each cluster\n",
    "Show 5 openings with the highest `mean_rating` inside each cluster.\n"
   ]
  },
  {
   "cell_type": "code",
   "execution_count": null,
   "id": "a60e48ba",
   "metadata": {},
   "outputs": [],
   "source": [
    "\n",
    "for c in range(n_clusters):\n",
    "    print(f\"\\nTop openings in cluster {c}:\")\n",
    "    print(debuts[debuts['cluster'] == c]\n",
    "          .sort_values('mean_rating', ascending=False)\n",
    "          .head(5)[['opening_name', 'mean_rating', 'games_count']])\n"
   ]
  },
  {
   "cell_type": "markdown",
   "id": "9039e72c",
   "metadata": {},
   "source": [
    "\n",
    "**Interpretation:** These lists help us see the typical openings in each rating band.\n"
   ]
  },
  {
   "cell_type": "markdown",
   "id": "6ba464b4",
   "metadata": {},
   "source": [
    "\n",
    "## 11. Cluster quality: silhouette\n",
    "Compute sample-wise silhouette values and the average silhouette score. Then show a histogram.\n"
   ]
  },
  {
   "cell_type": "code",
   "execution_count": null,
   "id": "dbec921e",
   "metadata": {},
   "outputs": [],
   "source": [
    "\n",
    "silhouette_vals = silhouette_samples(X, debuts['cluster'])\n",
    "avg_sil = silhouette_score(X, debuts['cluster'])\n",
    "print(f\"Average silhouette score: {avg_sil:.3f}\")\n",
    "\n",
    "plt.figure(figsize=(8, 6))\n",
    "plt.hist(silhouette_vals, bins=20)\n",
    "plt.xlabel(\"Silhouette coefficient\")\n",
    "plt.ylabel(\"Number of openings\")\n",
    "plt.title(\"Silhouette score distribution\")\n",
    "plt.show()\n"
   ]
  },
  {
   "cell_type": "markdown",
   "id": "20f23b41",
   "metadata": {},
   "source": [
    "\n",
    "**Interpretation:** Higher values (>0) mean better separation.  \n",
    "Values near 0 suggest openings on the border between clusters.\n"
   ]
  },
  {
   "cell_type": "markdown",
   "id": "766109bf",
   "metadata": {},
   "source": [
    "## Results:\n",
    "\n",
    "\n",
    "Top openings in cluster 0:\n",
    "                                          opening_name  ...  games_count\n",
    "1089  Ruy Lopez: Morphy Defense |  Anderssen Variation  ...           21\n",
    "1423                                 Trompowsky Attack  ...           22\n",
    "1215             Sicilian Defense: Classical Variation  ...           21\n",
    "1224                  Sicilian Defense: Delayed Alapin  ...           43\n",
    "202            Dutch Defense: Queen's Knight Variation  ...           29\n",
    "\n",
    "[5 rows x 3 columns]\n",
    "\n",
    "Top openings in cluster 1:\n",
    "                                           opening_name  ...  games_count\n",
    "62                        Bird Opening: Dutch Variation  ...           64\n",
    "907   Queen's Gambit Declined: Queen's Knight Variation  ...           40\n",
    "1290   Sicilian Defense: Modern Variations |  Main Line  ...           30\n",
    "965                       Queen's Pawn Game: Anti-Torre  ...           23\n",
    "526   Italian Game: Two Knights Defense |  Polerio D...  ...           22\n",
    "\n",
    "[5 rows x 3 columns]\n",
    "\n",
    "Top openings in cluster 2:\n",
    "                                    opening_name  mean_rating  games_count\n",
    "359             French Defense: Normal Variation  1495.965116          129\n",
    "678                 Mieses Opening: Reversed Rat  1495.961538           26\n",
    "238  English Opening: Anglo-Scandinavian Defense  1492.388889           45\n",
    "783                             Philidor Defense  1491.333333          135\n",
    "283                               Englund Gambit  1484.322222           45\n",
    "\n",
    "Top openings in cluster 3:\n",
    "                                           opening_name  ...  games_count\n",
    "471   Italian Game: Classical Variation |  Giuoco Pi...  ...           31\n",
    "1143          Scandinavian Defense: Modern Variation #2  ...           60\n",
    "1045  Ruy Lopez: Berlin Defense |  Improved Steinitz...  ...           26\n",
    "1328                Sicilian Defense: Paulsen Variation  ...           27\n",
    "1378                                    Slav Defense #2  ...           42\n",
    "\n",
    "[5 rows x 3 columns]\n",
    "\n",
    "\n",
    "## Overview\n",
    "\n",
    "### Cluster 0 – Likely higher-rated players\n",
    "Top openings include the Ruy Lopez: Morphy Defense, Trompowsky Attack, and Sicilian Classical variations.\n",
    "These are well-studied openings often played at an advanced level. They require more opening knowledge and strategic planning.\n",
    "Games in this cluster tend to be from players who know theory and can handle complex positions.\n",
    "\n",
    "### Cluster 1 – Mid-to-high rating, mix of styles\n",
    "We see openings like the Bird Opening, Queen’s Gambit Declined (Knight Variation), and Sicilian Modern.\n",
    "This group mixes both mainstream openings and less common lines. It may include creative players who still have solid fundamentals.\n",
    "\n",
    "### Cluster 2 – Lower rating range (~1490 average)\n",
    "Typical openings: French Defense, Philidor Defense, Englund Gambit.\n",
    "These are often chosen for surprise value or because they are easier to learn quickly. Some are solid (French), while others (Englund Gambit) are risky and can lead to early traps.\n",
    "This cluster suggests a more casual or experimental style.\n",
    "\n",
    "### Cluster 3 – Mid-level with classical mainlines\n",
    "We see Italian Game (Classical), Scandinavian Defense (Modern), Ruy Lopez: Berlin Defense, Sicilian Paulsen, and Slav Defense.\n",
    "These are solid and popular openings that don’t require deep theory at the start but can lead to balanced games.\n",
    "Players here often focus on building a strong structure rather than chasing quick tactics.\n",
    "\n",
    "\n",
    "\n"
   ]
  }
 ],
 "metadata": {
  "language_info": {
   "name": "python"
  }
 },
 "nbformat": 4,
 "nbformat_minor": 5
}
